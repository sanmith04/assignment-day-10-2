{
 "cells": [
  {
   "cell_type": "markdown",
   "metadata": {},
   "source": [
    "# Question 6"
   ]
  },
  {
   "cell_type": "code",
   "execution_count": 1,
   "metadata": {},
   "outputs": [],
   "source": [
    "import pandas as pd"
   ]
  },
  {
   "cell_type": "code",
   "execution_count": 2,
   "metadata": {},
   "outputs": [
    {
     "data": {
      "text/html": [
       "<div>\n",
       "<style scoped>\n",
       "    .dataframe tbody tr th:only-of-type {\n",
       "        vertical-align: middle;\n",
       "    }\n",
       "\n",
       "    .dataframe tbody tr th {\n",
       "        vertical-align: top;\n",
       "    }\n",
       "\n",
       "    .dataframe thead th {\n",
       "        text-align: right;\n",
       "    }\n",
       "</style>\n",
       "<table border=\"1\" class=\"dataframe\">\n",
       "  <thead>\n",
       "    <tr style=\"text-align: right;\">\n",
       "      <th></th>\n",
       "      <th>name</th>\n",
       "      <th>score</th>\n",
       "      <th>attempts</th>\n",
       "      <th>qualify</th>\n",
       "    </tr>\n",
       "  </thead>\n",
       "  <tbody>\n",
       "    <tr>\n",
       "      <th>0</th>\n",
       "      <td>Chandan</td>\n",
       "      <td>8.0</td>\n",
       "      <td>1</td>\n",
       "      <td>yes</td>\n",
       "    </tr>\n",
       "    <tr>\n",
       "      <th>1</th>\n",
       "      <td>Avik</td>\n",
       "      <td>8.4</td>\n",
       "      <td>3</td>\n",
       "      <td>no</td>\n",
       "    </tr>\n",
       "    <tr>\n",
       "      <th>2</th>\n",
       "      <td>Aditya</td>\n",
       "      <td>7.9</td>\n",
       "      <td>2</td>\n",
       "      <td>yes</td>\n",
       "    </tr>\n",
       "    <tr>\n",
       "      <th>3</th>\n",
       "      <td>Abhishek</td>\n",
       "      <td>8.9</td>\n",
       "      <td>3</td>\n",
       "      <td>no</td>\n",
       "    </tr>\n",
       "  </tbody>\n",
       "</table>\n",
       "</div>"
      ],
      "text/plain": [
       "       name  score  attempts qualify\n",
       "0   Chandan    8.0         1     yes\n",
       "1      Avik    8.4         3      no\n",
       "2    Aditya    7.9         2     yes\n",
       "3  Abhishek    8.9         3      no"
      ]
     },
     "execution_count": 2,
     "metadata": {},
     "output_type": "execute_result"
    }
   ],
   "source": [
    "z = {\"name\": ['Chandan','Avik','Aditya','Abhishek'],\n",
    "  \"score\": [8.0,8.4,7.9,8.9],\n",
    "   'attempts': [1, 3, 2, 3],\n",
    "    'qualify': ['yes', 'no', 'yes', 'no']}\n",
    "pd.DataFrame(z)"
   ]
  },
  {
   "cell_type": "markdown",
   "metadata": {},
   "source": [
    "# Question 7"
   ]
  },
  {
   "cell_type": "code",
   "execution_count": 3,
   "metadata": {},
   "outputs": [
    {
     "name": "stdout",
     "output_type": "stream",
     "text": [
      "Select specific columns:\n",
      "       name  score\n",
      "0   Chandan    8.0\n",
      "1      Avik    8.4\n",
      "2    Aditya    7.9\n",
      "3  Abhishek    8.9\n"
     ]
    }
   ],
   "source": [
    "z = {\"name\": ['Chandan','Avik','Aditya','Abhishek'],\n",
    "  \"score\": [8.0,8.4,7.9,8.9],\n",
    "   'attempts': [1, 3, 2, 3],\n",
    "    'qualify': ['yes', 'no', 'yes', 'no']}\n",
    "y=pd.DataFrame(z)\n",
    "\n",
    "print(\"Select specific columns:\")\n",
    "print(y[['name', 'score']])"
   ]
  },
  {
   "cell_type": "markdown",
   "metadata": {},
   "source": [
    "# Question 8"
   ]
  },
  {
   "cell_type": "code",
   "execution_count": 12,
   "metadata": {},
   "outputs": [
    {
     "name": "stdout",
     "output_type": "stream",
     "text": [
      "Original DataFrame\n",
      "  student id      name  marks\n",
      "0         S1  Abhishek    200\n",
      "1         S2    Aditya    210\n",
      "2         S3      Avik    190\n",
      "3         S4   Chandan    222\n",
      "-------------------------------------\n",
      "  student id   name  marks\n",
      "0         S5  Luice    300\n",
      "1         S6    Man    100\n",
      "2         S7   Alex    187\n",
      "3         S8   Jack    268\n",
      "-------------------------------------\n",
      "\n",
      "Joining the said two dataframes along rows:\n",
      "  student id      name  marks\n",
      "0         S1  Abhishek    200\n",
      "1         S2    Aditya    210\n",
      "2         S3      Avik    190\n",
      "3         S4   Chandan    222\n",
      "0         S5     Luice    300\n",
      "1         S6       Man    100\n",
      "2         S7      Alex    187\n",
      "3         S8      Jack    268\n"
     ]
    }
   ],
   "source": [
    "stud_data1=pd.DataFrame({'student id':['S1','S2','S3','S4'],\n",
    "                           'name':['Abhishek','Aditya','Avik','Chandan'],\n",
    "                           'marks':[200, 210, 190, 222]})\n",
    "\n",
    "stud_data2=pd.DataFrame({'student id': ['S5', 'S6', 'S7', 'S8'],\n",
    "         'name': ['Luice','Man','Alex','Jack'],\n",
    "        'marks': [300, 100, 187, 268]})\n",
    "\n",
    "print(\"Original DataFrame\")\n",
    "print(stud_data1)\n",
    "print(\"-------------------------------------\")\n",
    "print(stud_data2)\n",
    "print(\"-------------------------------------\")\n",
    "print(\"\\nJoining the said two dataframes along rows:\")\n",
    "result_data = pd.concat([stud_data1, stud_data2])\n",
    "print(result_data)"
   ]
  },
  {
   "cell_type": "markdown",
   "metadata": {},
   "source": [
    "# Question 9 "
   ]
  },
  {
   "cell_type": "code",
   "execution_count": 18,
   "metadata": {},
   "outputs": [
    {
     "data": {
      "text/html": [
       "<div>\n",
       "<style scoped>\n",
       "    .dataframe tbody tr th:only-of-type {\n",
       "        vertical-align: middle;\n",
       "    }\n",
       "\n",
       "    .dataframe tbody tr th {\n",
       "        vertical-align: top;\n",
       "    }\n",
       "\n",
       "    .dataframe thead th {\n",
       "        text-align: right;\n",
       "    }\n",
       "</style>\n",
       "<table border=\"1\" class=\"dataframe\">\n",
       "  <thead>\n",
       "    <tr style=\"text-align: right;\">\n",
       "      <th></th>\n",
       "      <th>First Score</th>\n",
       "      <th>Second Score</th>\n",
       "      <th>Third Score</th>\n",
       "    </tr>\n",
       "  </thead>\n",
       "  <tbody>\n",
       "    <tr>\n",
       "      <th>0</th>\n",
       "      <td>False</td>\n",
       "      <td>False</td>\n",
       "      <td>True</td>\n",
       "    </tr>\n",
       "    <tr>\n",
       "      <th>1</th>\n",
       "      <td>False</td>\n",
       "      <td>False</td>\n",
       "      <td>False</td>\n",
       "    </tr>\n",
       "    <tr>\n",
       "      <th>2</th>\n",
       "      <td>True</td>\n",
       "      <td>False</td>\n",
       "      <td>False</td>\n",
       "    </tr>\n",
       "    <tr>\n",
       "      <th>3</th>\n",
       "      <td>False</td>\n",
       "      <td>True</td>\n",
       "      <td>False</td>\n",
       "    </tr>\n",
       "  </tbody>\n",
       "</table>\n",
       "</div>"
      ],
      "text/plain": [
       "   First Score  Second Score  Third Score\n",
       "0        False         False         True\n",
       "1        False         False        False\n",
       "2         True         False        False\n",
       "3        False          True        False"
      ]
     },
     "execution_count": 18,
     "metadata": {},
     "output_type": "execute_result"
    }
   ],
   "source": [
    "data = {'First Score':[100, 90, np.nan, 95], \n",
    "        'Second Score': [30, 45, 56, np.nan], \n",
    "        'Third Score':[np.nan, 40, 80, 98]} \n",
    "\n",
    "df=pd.DataFrame(data)\n",
    "df.isnull()"
   ]
  },
  {
   "cell_type": "markdown",
   "metadata": {},
   "source": [
    "# Question 10"
   ]
  },
  {
   "cell_type": "code",
   "execution_count": 22,
   "metadata": {},
   "outputs": [
    {
     "data": {
      "text/plain": [
       "0     mango\n",
       "1    orange\n",
       "2     apple\n",
       "3      kivi\n",
       "dtype: object"
      ]
     },
     "execution_count": 22,
     "metadata": {},
     "output_type": "execute_result"
    }
   ],
   "source": [
    "import numpy as np\n",
    "data2=np.array(['mango','orange','apple','kivi'])\n",
    "\n",
    "ex=pd.Series(data2)\n",
    "ex"
   ]
  },
  {
   "cell_type": "code",
   "execution_count": null,
   "metadata": {},
   "outputs": [],
   "source": []
  }
 ],
 "metadata": {
  "kernelspec": {
   "display_name": "Python 3",
   "language": "python",
   "name": "python3"
  },
  "language_info": {
   "codemirror_mode": {
    "name": "ipython",
    "version": 3
   },
   "file_extension": ".py",
   "mimetype": "text/x-python",
   "name": "python",
   "nbconvert_exporter": "python",
   "pygments_lexer": "ipython3",
   "version": "3.7.6"
  }
 },
 "nbformat": 4,
 "nbformat_minor": 4
}
